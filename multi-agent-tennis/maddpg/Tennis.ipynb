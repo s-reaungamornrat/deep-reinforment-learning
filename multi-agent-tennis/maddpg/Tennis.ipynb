{
 "cells": [
  {
   "cell_type": "markdown",
   "metadata": {},
   "source": [
    "# Collaboration and Competition\n",
    "\n",
    "---\n",
    "\n",
    "In this notebook, you will learn how to use the Unity ML-Agents environment for the third project of the [Deep Reinforcement Learning Nanodegree](https://www.udacity.com/course/deep-reinforcement-learning-nanodegree--nd893) program.\n",
    "\n",
    "### 1. Start the Environment\n",
    "\n",
    "We begin by importing the necessary packages.  If the code cell below returns an error, please revisit the project instructions to double-check that you have installed [Unity ML-Agents](https://github.com/Unity-Technologies/ml-agents/blob/master/docs/Installation.md) and [NumPy](http://www.numpy.org/)."
   ]
  },
  {
   "cell_type": "code",
   "execution_count": 1,
   "metadata": {},
   "outputs": [],
   "source": [
    "import os\n",
    "import sys\n",
    "sys.path.append('D:/UserData/Z003XD5A/dev/deep_rl_projects/ml-agents/python')\n",
    "\n",
    "from unityagents import UnityEnvironment\n",
    "import numpy as np"
   ]
  },
  {
   "cell_type": "markdown",
   "metadata": {},
   "source": [
    "Next, we will start the environment!  **_Before running the code cell below_**, change the `file_name` parameter to match the location of the Unity environment that you downloaded.\n",
    "\n",
    "- **Mac**: `\"path/to/Tennis.app\"`\n",
    "- **Windows** (x86): `\"path/to/Tennis_Windows_x86/Tennis.exe\"`\n",
    "- **Windows** (x86_64): `\"path/to/Tennis_Windows_x86_64/Tennis.exe\"`\n",
    "- **Linux** (x86): `\"path/to/Tennis_Linux/Tennis.x86\"`\n",
    "- **Linux** (x86_64): `\"path/to/Tennis_Linux/Tennis.x86_64\"`\n",
    "- **Linux** (x86, headless): `\"path/to/Tennis_Linux_NoVis/Tennis.x86\"`\n",
    "- **Linux** (x86_64, headless): `\"path/to/Tennis_Linux_NoVis/Tennis.x86_64\"`\n",
    "\n",
    "For instance, if you are using a Mac, then you downloaded `Tennis.app`.  If this file is in the same folder as the notebook, then the line below should appear as follows:\n",
    "```\n",
    "env = UnityEnvironment(file_name=\"Tennis.app\")\n",
    "```"
   ]
  },
  {
   "cell_type": "code",
   "execution_count": 2,
   "metadata": {},
   "outputs": [
    {
     "name": "stdout",
     "output_type": "stream",
     "text": [
      "['Tennis.exe', 'Tennis_Data', 'UnityPlayer.dll']\n"
     ]
    }
   ],
   "source": [
    "print(os.listdir('../../unity_environments/Tennis_Windows_x86_64'))"
   ]
  },
  {
   "cell_type": "code",
   "execution_count": 3,
   "metadata": {},
   "outputs": [
    {
     "name": "stderr",
     "output_type": "stream",
     "text": [
      "INFO:unityagents:\n",
      "'Academy' started successfully!\n",
      "Unity Academy name: Academy\n",
      "        Number of Brains: 1\n",
      "        Number of External Brains : 1\n",
      "        Lesson number : 0\n",
      "        Reset Parameters :\n",
      "\t\t\n",
      "Unity brain name: TennisBrain\n",
      "        Number of Visual Observations (per agent): 0\n",
      "        Vector Observation space type: continuous\n",
      "        Vector Observation space size (per agent): 8\n",
      "        Number of stacked Vector Observation: 3\n",
      "        Vector Action space type: continuous\n",
      "        Vector Action space size (per agent): 2\n",
      "        Vector Action descriptions: , \n"
     ]
    }
   ],
   "source": [
    "env = UnityEnvironment(file_name='../../unity_environments/Tennis_Windows_x86_64/Tennis.exe')"
   ]
  },
  {
   "cell_type": "markdown",
   "metadata": {},
   "source": [
    "Environments contain **_brains_** which are responsible for deciding the actions of their associated agents. Here we check for the first brain available, and set it as the default brain we will be controlling from Python."
   ]
  },
  {
   "cell_type": "code",
   "execution_count": 4,
   "metadata": {},
   "outputs": [],
   "source": [
    "# get the default brain\n",
    "brain_name = env.brain_names[0]\n",
    "brain = env.brains[brain_name]"
   ]
  },
  {
   "cell_type": "markdown",
   "metadata": {},
   "source": [
    "### 2. Examine the State and Action Spaces\n",
    "\n",
    "In this environment, two agents control rackets to bounce a ball over a net. If an agent hits the ball over the net, it receives a reward of +0.1.  If an agent lets a ball hit the ground or hits the ball out of bounds, it receives a reward of -0.01.  Thus, the goal of each agent is to keep the ball in play.\n",
    "\n",
    "The observation space consists of 8 variables corresponding to the position and velocity of the ball and racket. Two continuous actions are available, corresponding to movement toward (or away from) the net, and jumping. \n",
    "\n",
    "Run the code cell below to print some information about the environment."
   ]
  },
  {
   "cell_type": "code",
   "execution_count": 5,
   "metadata": {},
   "outputs": [
    {
     "name": "stdout",
     "output_type": "stream",
     "text": [
      "Number of agents: 2\n",
      "Size of each action: 2\n",
      "states shape  (2, 24)\n",
      "There are 2 agents. Each observes a state with length: 24\n",
      "The state for the first agent looks like: [ 0.          0.          0.          0.          0.          0.\n",
      "  0.          0.          0.          0.          0.          0.\n",
      "  0.          0.          0.          0.         -6.65278625 -1.5\n",
      " -0.          0.          6.83172083  6.         -0.          0.        ]\n"
     ]
    }
   ],
   "source": [
    "# reset the environment\n",
    "env_info = env.reset(train_mode=True)[brain_name]\n",
    "\n",
    "# number of agents \n",
    "num_agents = len(env_info.agents)\n",
    "print('Number of agents:', num_agents)\n",
    "\n",
    "# size of each action\n",
    "action_size = brain.vector_action_space_size\n",
    "print('Size of each action:', action_size)\n",
    "\n",
    "# examine the state space \n",
    "states = env_info.vector_observations\n",
    "print('states shape ', states.shape)\n",
    "state_size = states.shape[1]\n",
    "print('There are {} agents. Each observes a state with length: {}'.format(states.shape[0], state_size))\n",
    "print('The state for the first agent looks like:', states[0])"
   ]
  },
  {
   "cell_type": "markdown",
   "metadata": {},
   "source": [
    "### 3. Take Random Actions in the Environment\n",
    "\n",
    "In the next code cell, you will learn how to use the Python API to control the agents and receive feedback from the environment.\n",
    "\n",
    "Once this cell is executed, you will watch the agents' performance, if they select actions at random with each time step.  A window should pop up that allows you to observe the agents.\n",
    "\n",
    "Of course, as part of the project, you'll have to change the code so that the agents are able to use their experiences to gradually choose better actions when interacting with the environment!"
   ]
  },
  {
   "cell_type": "code",
   "execution_count": 123,
   "metadata": {},
   "outputs": [
    {
     "name": "stdout",
     "output_type": "stream",
     "text": [
      "Score (max over agents) from episode 1: 0.0\n",
      "Score (max over agents) from episode 2: 0.0\n",
      "Score (max over agents) from episode 3: 0.0\n",
      "Score (max over agents) from episode 4: 0.0\n",
      "Score (max over agents) from episode 5: 0.0\n"
     ]
    }
   ],
   "source": [
    "for i in range(1, 6):                                      # play game for 5 episodes\n",
    "    env_info = env.reset(train_mode=False)[brain_name]     # reset the environment    \n",
    "    states = env_info.vector_observations                  # get the current state (for each agent)\n",
    "    scores = np.zeros(num_agents)                          # initialize the score (for each agent)\n",
    "    while True:\n",
    "        actions = np.random.randn(num_agents, action_size) # select an action (for each agent)\n",
    "        actions = np.clip(actions, -1, 1)                  # all actions between -1 and 1\n",
    "        env_info = env.step(actions)[brain_name]           # send all actions to tne environment\n",
    "        next_states = env_info.vector_observations         # get next state (for each agent)\n",
    "        rewards = env_info.rewards                         # get reward (for each agent)\n",
    "        dones = env_info.local_done                        # see if episode finished\n",
    "        scores += env_info.rewards                         # update the score (for each agent)\n",
    "        states = next_states                               # roll over states to next time step\n",
    "        if np.any(dones):                                  # exit loop if episode finished\n",
    "            break\n",
    "    print('Score (max over agents) from episode {}: {}'.format(i, np.max(scores)))"
   ]
  },
  {
   "cell_type": "markdown",
   "metadata": {},
   "source": [
    "When finished, you can close the environment."
   ]
  },
  {
   "cell_type": "code",
   "execution_count": null,
   "metadata": {},
   "outputs": [],
   "source": [
    "env.close()"
   ]
  },
  {
   "cell_type": "markdown",
   "metadata": {},
   "source": [
    "### 4. It's Your Turn!\n",
    "\n",
    "Now it's your turn to train your own agent to solve the environment!  When training the environment, set `train_mode=True`, so that the line for resetting the environment looks like the following:\n",
    "```python\n",
    "env_info = env.reset(train_mode=True)[brain_name]\n",
    "```"
   ]
  },
  {
   "cell_type": "code",
   "execution_count": 6,
   "metadata": {},
   "outputs": [],
   "source": [
    "import torch\n",
    "import torch.nn.functional as F\n",
    "\n",
    "import time\n",
    "import numpy as np\n",
    "from itertools import count\n",
    "from collections import deque\n",
    "\n",
    "import matplotlib.pyplot as plt\n",
    "%matplotlib inline"
   ]
  },
  {
   "cell_type": "code",
   "execution_count": 7,
   "metadata": {},
   "outputs": [],
   "source": [
    "%load_ext autoreload\n",
    "%autoreload 2\n",
    "\n",
    "from maddpg import *\n",
    "from buffer import *"
   ]
  },
  {
   "cell_type": "code",
   "execution_count": 33,
   "metadata": {},
   "outputs": [],
   "source": [
    "def maddpg_training(marl, replay_buffer, n_episodes=2000, noise_scale=1., noise_scale_reduction=0.9999, num_batch_permute=10):\n",
    "    \n",
    "    def learn(marl, replay_buffer, time, num_batch_permute):\n",
    "        ''' update network paramters'''\n",
    "        if len(replay_buffer) > replay_buffer.batch_size and time % 20 == 0:\n",
    "            for _ in range(num_batch_permute):\n",
    "                experiences = replay_buffer.sample()\n",
    "                marl.update(experiences)\n",
    "            \n",
    "            \n",
    "    scores_deque = deque(maxlen=100)\n",
    "    scores_global = []\n",
    "        \n",
    "    for i_episode in range(1, n_episodes+1):\n",
    "        \n",
    "        env_info = env.reset(train_mode=True)[brain_name]      # reset the environment    \n",
    "        states = env_info.vector_observations                  # get the current state (for each agent)\n",
    "        scores = np.zeros(num_agents)                          # initialize the score (for each agent)\n",
    "        marl.reset()\n",
    "        \n",
    "        score_average = 0\n",
    "        start_time = time.time()\n",
    "        for t in count():\n",
    "            actions = marl.act(states, noise_scale)\n",
    "            noise_scale *= noise_scale_reduction\n",
    "            actions = np.hstack([action.numpy().squeeze() for action in actions]) # concatenate action [a11, a12, a21, a22] ij where i is agent index, j is action index\n",
    "            env_info = env.step(actions)[brain_name]           # send all actions to tne environment\n",
    "            next_states = env_info.vector_observations         # get next state (for each agent)\n",
    "            rewards = env_info.rewards                         # get reward (for each agent)\n",
    "            dones = env_info.local_done                        # see if episode finished\n",
    "            replay_buffer.add(states, np.hstack(states), actions, np.vstack(rewards),\n",
    "                              next_states, np.hstack(next_states), np.vstack(dones).astype(np.uint8))\n",
    "            # check if samples are enough for training the agents\n",
    "            learn(marl, replay_buffer, t, num_batch_permute=num_batch_permute)\n",
    "            states = next_states                               # roll over states to next time step\n",
    "            scores += rewards                                  # update the score (for each agent)            \n",
    "            if np.any(dones):                                  # exit loop if episode finished\n",
    "                break\n",
    "        \n",
    "        scores_deque.append(np.max(scores))\n",
    "        scores_global.append(np.max(scores))\n",
    "            \n",
    "        if i_episode % 10 == 0:\n",
    "            print('\\rEpisode {}, Average Score: {:.2f}, Runtime: {:.2f}'\\\n",
    "                  .format(i_episode, np.mean(scores_deque), time.time() - start_time), end=\"\\n\")    \n",
    "            for ia, ddpg in enumerate(marl.marl):\n",
    "                torch.save(ddpg.actor_local.state_dict(), 'checkpoint_actor_%d.pth' % ia)\n",
    "                torch.save(ddpg.critic_local.state_dict(), 'checkpoint_critic_%d.pth' % ia) \n",
    "            \n",
    "        if np.mean(scores_deque) >= 0.5:\n",
    "            for ia, ddpg in enumerate(marl.marl):\n",
    "                torch.save(ddpg.actor_local.state_dict(), 'final_actor_%d.pth' % ia)\n",
    "                torch.save(ddpg.critic_local.state_dict(), 'final_critic_%d.pth' % ia) \n",
    "            print('\\nEnvironment solved in {:d} episodes!\\tAverage Score: {:.2f}'.format(i_episode, np.mean(scores_deque)))            \n",
    "            break            \n",
    "            \n",
    "    return scores_global\n",
    "    "
   ]
  },
  {
   "cell_type": "code",
   "execution_count": 36,
   "metadata": {},
   "outputs": [],
   "source": [
    "random_seed = 1234\n",
    "num_batch_permute = 10\n",
    "n_episodes=5000\n",
    "gamma = 0.99\n",
    "tau = 2.e-1#1.e-3\n",
    "buffer_size = int(1e6)\n",
    "batch_size = 1000\n",
    "device = torch.device(\"cuda:0\" if torch.cuda.is_available() else \"cpu\")\n",
    "ddpg_settings = {'state_size':state_size, 'action_size':action_size, 'random_seed':random_seed,\n",
    "                 'hidden_in_dim':128, 'hidden_out_dim':128, 'activation':F.relu,'tau':tau, 'lr_actor':1e-3, 'lr_critic':1e-3,\n",
    "                 'weight_decay':0., 'epsilon':1., 'epsilon_decay':0.}"
   ]
  },
  {
   "cell_type": "code",
   "execution_count": 38,
   "metadata": {},
   "outputs": [],
   "source": [
    "maddpg = MADDPG(device, random_seed, gamma, ddpg_settings)\n",
    "replay_buffer = ReplayBuffer(device, action_size, buffer_size, batch_size, random_seed) "
   ]
  },
  {
   "cell_type": "code",
   "execution_count": 39,
   "metadata": {},
   "outputs": [
    {
     "name": "stdout",
     "output_type": "stream",
     "text": [
      "Episode 10, Average Score: 0.02, Runtime: 0.04\n",
      "Episode 20, Average Score: 0.01, Runtime: 0.11\n",
      "Episode 30, Average Score: 0.01, Runtime: 0.05\n",
      "Episode 40, Average Score: 0.00, Runtime: 0.06\n",
      "Episode 50, Average Score: 0.01, Runtime: 0.05\n",
      "Episode 60, Average Score: 0.01, Runtime: 0.05\n",
      "Episode 70, Average Score: 0.01, Runtime: 0.85\n",
      "Episode 80, Average Score: 0.00, Runtime: 0.95\n",
      "Episode 90, Average Score: 0.00, Runtime: 0.92\n",
      "Episode 100, Average Score: 0.00, Runtime: 0.97\n",
      "Episode 110, Average Score: 0.00, Runtime: 0.95\n",
      "Episode 120, Average Score: 0.00, Runtime: 0.93\n",
      "Episode 130, Average Score: 0.01, Runtime: 0.97\n",
      "Episode 140, Average Score: 0.01, Runtime: 0.98\n",
      "Episode 150, Average Score: 0.00, Runtime: 1.00\n",
      "Episode 160, Average Score: 0.00, Runtime: 0.92\n",
      "Episode 170, Average Score: 0.00, Runtime: 0.90\n",
      "Episode 180, Average Score: 0.00, Runtime: 0.94\n",
      "Episode 190, Average Score: 0.00, Runtime: 1.00\n",
      "Episode 200, Average Score: 0.00, Runtime: 1.07\n",
      "Episode 210, Average Score: 0.00, Runtime: 1.80\n",
      "Episode 220, Average Score: 0.00, Runtime: 0.96\n",
      "Episode 230, Average Score: 0.00, Runtime: 1.01\n",
      "Episode 240, Average Score: 0.00, Runtime: 0.99\n",
      "Episode 250, Average Score: 0.00, Runtime: 1.12\n",
      "Episode 260, Average Score: 0.00, Runtime: 0.95\n",
      "Episode 270, Average Score: 0.00, Runtime: 1.04\n",
      "Episode 280, Average Score: 0.00, Runtime: 0.92\n",
      "Episode 290, Average Score: 0.00, Runtime: 0.94\n",
      "Episode 300, Average Score: 0.00, Runtime: 1.01\n",
      "Episode 310, Average Score: 0.00, Runtime: 0.90\n",
      "Episode 320, Average Score: 0.00, Runtime: 0.95\n",
      "Episode 330, Average Score: 0.00, Runtime: 1.00\n",
      "Episode 340, Average Score: 0.00, Runtime: 1.01\n",
      "Episode 350, Average Score: 0.00, Runtime: 1.89\n",
      "Episode 360, Average Score: 0.00, Runtime: 1.91\n",
      "Episode 370, Average Score: 0.01, Runtime: 1.75\n",
      "Episode 380, Average Score: 0.01, Runtime: 0.95\n",
      "Episode 390, Average Score: 0.02, Runtime: 0.91\n",
      "Episode 400, Average Score: 0.02, Runtime: 1.82\n",
      "Episode 410, Average Score: 0.02, Runtime: 0.91\n",
      "Episode 420, Average Score: 0.03, Runtime: 0.94\n",
      "Episode 430, Average Score: 0.03, Runtime: 0.90\n",
      "Episode 440, Average Score: 0.04, Runtime: 2.73\n",
      "Episode 450, Average Score: 0.04, Runtime: 0.92\n",
      "Episode 460, Average Score: 0.05, Runtime: 1.78\n",
      "Episode 470, Average Score: 0.05, Runtime: 0.89\n",
      "Episode 480, Average Score: 0.05, Runtime: 1.83\n",
      "Episode 490, Average Score: 0.05, Runtime: 0.90\n",
      "Episode 500, Average Score: 0.05, Runtime: 0.96\n",
      "Episode 510, Average Score: 0.05, Runtime: 0.91\n",
      "Episode 520, Average Score: 0.05, Runtime: 0.96\n",
      "Episode 530, Average Score: 0.04, Runtime: 0.90\n",
      "Episode 540, Average Score: 0.04, Runtime: 0.96\n",
      "Episode 550, Average Score: 0.03, Runtime: 0.99\n",
      "Episode 560, Average Score: 0.03, Runtime: 0.95\n",
      "Episode 570, Average Score: 0.03, Runtime: 1.82\n",
      "Episode 580, Average Score: 0.03, Runtime: 1.73\n",
      "Episode 590, Average Score: 0.03, Runtime: 1.87\n",
      "Episode 600, Average Score: 0.03, Runtime: 0.88\n",
      "Episode 610, Average Score: 0.03, Runtime: 0.89\n",
      "Episode 620, Average Score: 0.03, Runtime: 1.78\n",
      "Episode 630, Average Score: 0.04, Runtime: 0.99\n",
      "Episode 640, Average Score: 0.04, Runtime: 0.90\n",
      "Episode 650, Average Score: 0.04, Runtime: 3.60\n",
      "Episode 660, Average Score: 0.05, Runtime: 1.79\n",
      "Episode 670, Average Score: 0.05, Runtime: 1.82\n",
      "Episode 680, Average Score: 0.05, Runtime: 1.80\n",
      "Episode 690, Average Score: 0.06, Runtime: 1.75\n",
      "Episode 700, Average Score: 0.06, Runtime: 2.02\n",
      "Episode 710, Average Score: 0.07, Runtime: 0.93\n",
      "Episode 720, Average Score: 0.07, Runtime: 0.91\n",
      "Episode 730, Average Score: 0.07, Runtime: 1.82\n",
      "Episode 740, Average Score: 0.08, Runtime: 1.88\n",
      "Episode 750, Average Score: 0.08, Runtime: 1.81\n",
      "Episode 760, Average Score: 0.08, Runtime: 1.79\n",
      "Episode 770, Average Score: 0.09, Runtime: 3.56\n",
      "Episode 780, Average Score: 0.09, Runtime: 1.76\n",
      "Episode 790, Average Score: 0.09, Runtime: 2.69\n",
      "Episode 800, Average Score: 0.09, Runtime: 1.87\n",
      "Episode 810, Average Score: 0.09, Runtime: 1.87\n",
      "Episode 820, Average Score: 0.09, Runtime: 2.46\n",
      "Episode 830, Average Score: 0.10, Runtime: 2.10\n",
      "Episode 840, Average Score: 0.10, Runtime: 1.88\n",
      "Episode 850, Average Score: 0.10, Runtime: 1.92\n",
      "Episode 860, Average Score: 0.11, Runtime: 1.87\n",
      "Episode 870, Average Score: 0.11, Runtime: 1.85\n",
      "Episode 880, Average Score: 0.11, Runtime: 2.77\n",
      "Episode 890, Average Score: 0.11, Runtime: 1.77\n",
      "Episode 900, Average Score: 0.11, Runtime: 1.94\n",
      "Episode 910, Average Score: 0.11, Runtime: 1.82\n",
      "Episode 920, Average Score: 0.11, Runtime: 1.81\n",
      "Episode 930, Average Score: 0.11, Runtime: 4.65\n",
      "Episode 940, Average Score: 0.11, Runtime: 1.85\n",
      "Episode 950, Average Score: 0.11, Runtime: 1.83\n",
      "Episode 960, Average Score: 0.11, Runtime: 1.86\n",
      "Episode 970, Average Score: 0.11, Runtime: 0.93\n",
      "Episode 980, Average Score: 0.10, Runtime: 1.84\n",
      "Episode 990, Average Score: 0.10, Runtime: 1.84\n",
      "Episode 1000, Average Score: 0.10, Runtime: 1.82\n",
      "Episode 1010, Average Score: 0.11, Runtime: 1.80\n",
      "Episode 1020, Average Score: 0.11, Runtime: 1.87\n",
      "Episode 1030, Average Score: 0.10, Runtime: 1.82\n",
      "Episode 1040, Average Score: 0.11, Runtime: 1.83\n",
      "Episode 1050, Average Score: 0.11, Runtime: 1.79\n",
      "Episode 1060, Average Score: 0.12, Runtime: 0.88\n",
      "Episode 1070, Average Score: 0.12, Runtime: 2.06\n",
      "Episode 1080, Average Score: 0.12, Runtime: 2.68\n",
      "Episode 1090, Average Score: 0.13, Runtime: 1.86\n",
      "Episode 1100, Average Score: 0.12, Runtime: 1.77\n",
      "Episode 1110, Average Score: 0.12, Runtime: 1.79\n",
      "Episode 1120, Average Score: 0.13, Runtime: 6.45\n",
      "Episode 1130, Average Score: 0.13, Runtime: 1.78\n",
      "Episode 1140, Average Score: 0.12, Runtime: 4.57\n",
      "Episode 1150, Average Score: 0.12, Runtime: 1.87\n",
      "Episode 1160, Average Score: 0.12, Runtime: 5.56\n",
      "Episode 1170, Average Score: 0.12, Runtime: 1.78\n",
      "Episode 1180, Average Score: 0.11, Runtime: 0.90\n",
      "Episode 1190, Average Score: 0.10, Runtime: 3.58\n",
      "Episode 1200, Average Score: 0.10, Runtime: 0.90\n",
      "Episode 1210, Average Score: 0.11, Runtime: 3.60\n",
      "Episode 1220, Average Score: 0.11, Runtime: 16.50\n",
      "Episode 1230, Average Score: 0.12, Runtime: 1.88\n",
      "Episode 1240, Average Score: 0.12, Runtime: 0.90\n",
      "Episode 1250, Average Score: 0.11, Runtime: 0.93\n",
      "Episode 1260, Average Score: 0.11, Runtime: 1.83\n",
      "Episode 1270, Average Score: 0.11, Runtime: 2.89\n",
      "Episode 1280, Average Score: 0.10, Runtime: 1.84\n",
      "Episode 1290, Average Score: 0.10, Runtime: 3.60\n",
      "Episode 1300, Average Score: 0.10, Runtime: 3.73\n",
      "Episode 1310, Average Score: 0.09, Runtime: 1.94\n",
      "Episode 1320, Average Score: 0.09, Runtime: 0.92\n",
      "Episode 1330, Average Score: 0.10, Runtime: 2.81\n",
      "Episode 1340, Average Score: 0.11, Runtime: 3.82\n",
      "Episode 1350, Average Score: 0.12, Runtime: 2.66\n",
      "Episode 1360, Average Score: 0.14, Runtime: 3.59\n",
      "Episode 1370, Average Score: 0.16, Runtime: 8.15\n",
      "Episode 1380, Average Score: 0.18, Runtime: 9.04\n",
      "Episode 1390, Average Score: 0.20, Runtime: 6.51\n",
      "Episode 1400, Average Score: 0.25, Runtime: 7.68\n",
      "Episode 1410, Average Score: 0.26, Runtime: 0.93\n",
      "Episode 1420, Average Score: 0.26, Runtime: 0.94\n",
      "Episode 1430, Average Score: 0.26, Runtime: 8.54\n",
      "Episode 1440, Average Score: 0.34, Runtime: 35.20\n",
      "Episode 1450, Average Score: 0.46, Runtime: 4.57\n",
      "\n",
      "Environment solved in 1456 episodes!\tAverage Score: 0.52\n"
     ]
    }
   ],
   "source": [
    "scores = maddpg_training(maddpg, replay_buffer, n_episodes, noise_scale=2., noise_scale_reduction=0.9999, num_batch_permute=num_batch_permute)"
   ]
  },
  {
   "cell_type": "code",
   "execution_count": 40,
   "metadata": {},
   "outputs": [],
   "source": [
    "env.close()"
   ]
  },
  {
   "cell_type": "code",
   "execution_count": 41,
   "metadata": {},
   "outputs": [
    {
     "data": {
      "image/png": "[encoded data removed]",
      "text/plain": [
       "<Figure size 432x288 with 1 Axes>"
      ]
     },
     "metadata": {
      "needs_background": "light"
     },
     "output_type": "display_data"
    },
    {
     "data": {
      "text/plain": [
       "<Figure size 432x288 with 0 Axes>"
      ]
     },
     "metadata": {},
     "output_type": "display_data"
    }
   ],
   "source": [
    "fig = plt.figure()\n",
    "ax = fig.add_subplot(111)\n",
    "plt.plot(np.arange(1, len(scores)+1), scores)\n",
    "plt.ylabel('Score')\n",
    "plt.xlabel('Episode #')\n",
    "plt.show()\n",
    "\n",
    "plt.savefig('ddpg_score.png')"
   ]
  },
  {
   "cell_type": "code",
   "execution_count": null,
   "metadata": {},
   "outputs": [],
   "source": []
  },
  {
   "cell_type": "code",
   "execution_count": null,
   "metadata": {},
   "outputs": [],
   "source": []
  },
  {
   "cell_type": "code",
   "execution_count": null,
   "metadata": {},
   "outputs": [],
   "source": []
  },
  {
   "cell_type": "code",
   "execution_count": null,
   "metadata": {},
   "outputs": [],
   "source": []
  }
 ],
 "metadata": {
  "kernelspec": {
   "display_name": "Python [conda env:drlnd]",
   "language": "python",
   "name": "conda-env-drlnd-py"
  },
  "language_info": {
   "codemirror_mode": {
    "name": "ipython",
    "version": 3
   },
   "file_extension": ".py",
   "mimetype": "text/x-python",
   "name": "python",
   "nbconvert_exporter": "python",
   "pygments_lexer": "ipython3",
   "version": "3.6.7"
  }
 },
 "nbformat": 4,
 "nbformat_minor": 2
}
