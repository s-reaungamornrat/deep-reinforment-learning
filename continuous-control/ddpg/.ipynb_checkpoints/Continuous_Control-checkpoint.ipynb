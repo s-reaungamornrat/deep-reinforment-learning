{
 "cells": [
  {
   "cell_type": "markdown",
   "metadata": {},
   "source": [
    "# Continuous Control\n",
    "\n",
    "---\n",
    "\n",
    "You are welcome to use this coding environment to train your agent for the project.  Follow the instructions below to get started!\n",
    "\n",
    "### 1. Start the Environment\n",
    "\n",
    "Run the next code cell to install a few packages.  This line will take a few minutes to run!"
   ]
  },
  {
   "cell_type": "code",
   "execution_count": 1,
   "metadata": {},
   "outputs": [],
   "source": [
    "!pip -q install ./python"
   ]
  },
  {
   "cell_type": "markdown",
   "metadata": {},
   "source": [
    "The environments corresponding to both versions of the environment are already saved in the Workspace and can be accessed at the file paths provided below.  \n",
    "\n",
    "Please select one of the two options below for loading the environment."
   ]
  },
  {
   "cell_type": "code",
   "execution_count": 2,
   "metadata": {},
   "outputs": [
    {
     "name": "stderr",
     "output_type": "stream",
     "text": [
      "INFO:unityagents:\n",
      "'Academy' started successfully!\n",
      "Unity Academy name: Academy\n",
      "        Number of Brains: 1\n",
      "        Number of External Brains : 1\n",
      "        Lesson number : 0\n",
      "        Reset Parameters :\n",
      "\t\tgoal_speed -> 1.0\n",
      "\t\tgoal_size -> 5.0\n",
      "Unity brain name: ReacherBrain\n",
      "        Number of Visual Observations (per agent): 0\n",
      "        Vector Observation space type: continuous\n",
      "        Vector Observation space size (per agent): 33\n",
      "        Number of stacked Vector Observation: 1\n",
      "        Vector Action space type: continuous\n",
      "        Vector Action space size (per agent): 4\n",
      "        Vector Action descriptions: , , , \n"
     ]
    }
   ],
   "source": [
    "from unityagents import UnityEnvironment\n",
    "import numpy as np\n",
    "\n",
    "# select this option to load version 1 (with a single agent) of the environment\n",
    "# env = UnityEnvironment(file_name='/data/Reacher_One_Linux_NoVis/Reacher_One_Linux_NoVis.x86_64')\n",
    "\n",
    "# select this option to load version 2 (with 20 agents) of the environment\n",
    "env = UnityEnvironment(file_name='/data/Reacher_Linux_NoVis/Reacher.x86_64')"
   ]
  },
  {
   "cell_type": "markdown",
   "metadata": {},
   "source": [
    "Environments contain **_brains_** which are responsible for deciding the actions of their associated agents. Here we check for the first brain available, and set it as the default brain we will be controlling from Python."
   ]
  },
  {
   "cell_type": "code",
   "execution_count": 3,
   "metadata": {},
   "outputs": [],
   "source": [
    "# get the default brain\n",
    "brain_name = env.brain_names[0]\n",
    "\n",
    "brain = env.brains[brain_name]"
   ]
  },
  {
   "cell_type": "markdown",
   "metadata": {},
   "source": [
    "### 2. Examine the State and Action Spaces\n",
    "\n",
    "Run the code cell below to print some information about the environment."
   ]
  },
  {
   "cell_type": "code",
   "execution_count": 4,
   "metadata": {},
   "outputs": [
    {
     "name": "stdout",
     "output_type": "stream",
     "text": [
      "Number of agents: 20\n",
      "Size of each action: 4\n",
      "There are 20 agents. Each observes a state with length: 33\n",
      "The state for the first agent looks like: [  0.00000000e+00  -4.00000000e+00   0.00000000e+00   1.00000000e+00\n",
      "  -0.00000000e+00  -0.00000000e+00  -4.37113883e-08   0.00000000e+00\n",
      "   0.00000000e+00   0.00000000e+00   0.00000000e+00   0.00000000e+00\n",
      "   0.00000000e+00   0.00000000e+00  -1.00000000e+01   0.00000000e+00\n",
      "   1.00000000e+00  -0.00000000e+00  -0.00000000e+00  -4.37113883e-08\n",
      "   0.00000000e+00   0.00000000e+00   0.00000000e+00   0.00000000e+00\n",
      "   0.00000000e+00   0.00000000e+00   5.75471878e+00  -1.00000000e+00\n",
      "   5.55726624e+00   0.00000000e+00   1.00000000e+00   0.00000000e+00\n",
      "  -1.68164849e-01]\n"
     ]
    }
   ],
   "source": [
    "# reset the environment\n",
    "env_info = env.reset(train_mode=True)[brain_name]\n",
    "\n",
    "# number of agents\n",
    "num_agents = len(env_info.agents)\n",
    "print('Number of agents:', num_agents)\n",
    "\n",
    "# size of each action\n",
    "action_size = brain.vector_action_space_size\n",
    "print('Size of each action:', action_size)\n",
    "\n",
    "# examine the state space \n",
    "states = env_info.vector_observations\n",
    "state_size = states.shape[1]\n",
    "print('There are {} agents. Each observes a state with length: {}'.format(states.shape[0], state_size))\n",
    "print('The state for the first agent looks like:', states[0])"
   ]
  },
  {
   "cell_type": "markdown",
   "metadata": {},
   "source": [
    "### 3. Take Random Actions in the Environment\n",
    "\n",
    "In the next code cell, you will learn how to use the Python API to control the agent and receive feedback from the environment.\n",
    "\n",
    "Note that **in this coding environment, you will not be able to watch the agents while they are training**, and you should set `train_mode=True` to restart the environment."
   ]
  },
  {
   "cell_type": "code",
   "execution_count": null,
   "metadata": {},
   "outputs": [],
   "source": [
    "# env_info = env.reset(train_mode=True)[brain_name]      # reset the environment    \n",
    "# states = env_info.vector_observations                  # get the current state (for each agent)\n",
    "# scores = np.zeros(num_agents)                          # initialize the score (for each agent)\n",
    "# while True:\n",
    "#     actions = np.random.randn(num_agents, action_size) # select an action (for each agent)\n",
    "#     actions = np.clip(actions, -1, 1)                  # all actions between -1 and 1\n",
    "#     env_info = env.step(actions)[brain_name]           # send all actions to tne environment\n",
    "#     next_states = env_info.vector_observations         # get next state (for each agent)\n",
    "#     rewards = env_info.rewards                         # get reward (for each agent)\n",
    "#     dones = env_info.local_done                        # see if episode finished\n",
    "#     scores += env_info.rewards                         # update the score (for each agent)\n",
    "#     states = next_states                               # roll over states to next time step\n",
    "#     if np.any(dones):                                  # exit loop if episode finished\n",
    "#         break\n",
    "# print('Total score (averaged over agents) this episode: {}'.format(np.mean(scores)))"
   ]
  },
  {
   "cell_type": "markdown",
   "metadata": {},
   "source": [
    "When finished, you can close the environment."
   ]
  },
  {
   "cell_type": "code",
   "execution_count": null,
   "metadata": {},
   "outputs": [],
   "source": [
    "# env.close()"
   ]
  },
  {
   "cell_type": "markdown",
   "metadata": {},
   "source": [
    "### 4. It's Your Turn!\n",
    "\n",
    "Now it's your turn to train your own agent to solve the environment!  A few **important notes**:\n",
    "- When training the environment, set `train_mode=True`, so that the line for resetting the environment looks like the following:\n",
    "```python\n",
    "env_info = env.reset(train_mode=True)[brain_name]\n",
    "```\n",
    "- To structure your work, you're welcome to work directly in this Jupyter notebook, or you might like to start over with a new file!  You can see the list of files in the workspace by clicking on **_Jupyter_** in the top left corner of the notebook.\n",
    "- In this coding environment, you will not be able to watch the agents while they are training.  However, **_after training the agents_**, you can download the saved model weights to watch the agents on your own machine! "
   ]
  },
  {
   "cell_type": "code",
   "execution_count": 5,
   "metadata": {},
   "outputs": [],
   "source": [
    "from collections import deque\n",
    "from itertools import count\n",
    "import time\n",
    "import torch\n",
    "import matplotlib.pyplot as plt\n",
    "%matplotlib inline\n",
    "\n",
    "%load_ext autoreload\n",
    "%autoreload 2\n",
    "\n",
    "from ddpg_agent import *"
   ]
  },
  {
   "cell_type": "code",
   "execution_count": 6,
   "metadata": {},
   "outputs": [],
   "source": [
    "def ddpg(n_episodes=2000):\n",
    "    \n",
    "    scores_deque = deque(maxlen=100)\n",
    "    scores_global = []\n",
    "        \n",
    "    for i_episode in range(1, n_episodes+1):\n",
    "        \n",
    "        env_info = env.reset(train_mode=True)[brain_name]      # reset the environment    \n",
    "        states = env_info.vector_observations                  # get the current state (for each agent)\n",
    "        scores = np.zeros(num_agents)                          # initialize the score (for each agent)\n",
    "        agent.reset()\n",
    "        \n",
    "        score_average = 0\n",
    "        start_time = time.time()\n",
    "        for t in count():\n",
    "            actions = agent.act(states)\n",
    "            env_info = env.step(actions)[brain_name]           # send all actions to tne environment\n",
    "            next_states = env_info.vector_observations         # get next state (for each agent)\n",
    "            rewards = env_info.rewards                         # get reward (for each agent)\n",
    "            dones = env_info.local_done                        # see if episode finished\n",
    "            agent.step(states, actions, rewards, next_states, dones, t)\n",
    "            states = next_states                               # roll over states to next time step\n",
    "            scores += rewards                                  # update the score (for each agent)            \n",
    "            if np.any(dones):                                  # exit loop if episode finished\n",
    "                break\n",
    "        \n",
    "        scores_deque.append(np.mean(scores))\n",
    "        scores_global.append(np.mean(scores))\n",
    "        \n",
    "        print('\\rEpisode {}, Average Score: {:.2f}, Runtime: {:.2f}'\\\n",
    "              .format(i_episode, np.mean(scores_deque), time.time() - start_time), end=\"\\n\")        \n",
    "        \n",
    "        if i_episode % 10 == 0:\n",
    "            torch.save(agent.actor_local.state_dict(), 'checkpoint_actor.pth')\n",
    "            torch.save(agent.critic_local.state_dict(), 'checkpoint_critic.pth') \n",
    "            \n",
    "        if np.mean(scores_deque) >= 30.0:\n",
    "            torch.save(agent.actor_local.state_dict(), 'final_actor.pth')\n",
    "            torch.save(agent.critic_local.state_dict(), 'final_critic.pth')\n",
    "            print('\\nEnvironment solved in {:d} episodes!\\tAverage Score: {:.2f}'.format(i_episode, np.mean(scores_deque)))            \n",
    "            break            \n",
    "            \n",
    "    return scores_global"
   ]
  },
  {
   "cell_type": "code",
   "execution_count": 7,
   "metadata": {},
   "outputs": [],
   "source": [
    "random_seed = 1234\n",
    "device = torch.device(\"cuda:0\" if torch.cuda.is_available() else \"cpu\")\n",
    "settings = {'buffer_size':int(1e6), 'batch_size':256, 'gamma':0.99, 'tau':1e-3, 'lr_actor':1e-3, 'lr_critic':1e-3,\n",
    "           'weight_decay':0., 'epsilon':1., 'epsilon_decay':1e-6, 'num_batch_permute':10}\n",
    "\n",
    "agent = Agent(device, state_size, action_size, random_seed, **settings)"
   ]
  },
  {
   "cell_type": "code",
   "execution_count": 8,
   "metadata": {},
   "outputs": [
    {
     "name": "stdout",
     "output_type": "stream",
     "text": [
      "Episode 1, Average Score: 0.27, Runtime: 12.23\n",
      "Episode 2, Average Score: 0.37, Runtime: 12.68\n",
      "Episode 3, Average Score: 0.44, Runtime: 12.97\n",
      "Episode 4, Average Score: 0.48, Runtime: 12.88\n",
      "Episode 5, Average Score: 0.48, Runtime: 12.87\n",
      "Episode 6, Average Score: 0.52, Runtime: 12.87\n",
      "Episode 7, Average Score: 0.53, Runtime: 12.90\n",
      "Episode 8, Average Score: 0.56, Runtime: 13.03\n",
      "Episode 9, Average Score: 0.63, Runtime: 13.13\n",
      "Episode 10, Average Score: 0.67, Runtime: 13.36\n",
      "Episode 11, Average Score: 0.71, Runtime: 13.38\n",
      "Episode 12, Average Score: 0.74, Runtime: 13.51\n",
      "Episode 13, Average Score: 0.76, Runtime: 13.75\n",
      "Episode 14, Average Score: 0.80, Runtime: 13.98\n",
      "Episode 15, Average Score: 0.82, Runtime: 14.19\n",
      "Episode 16, Average Score: 0.85, Runtime: 14.24\n",
      "Episode 17, Average Score: 0.88, Runtime: 14.37\n",
      "Episode 18, Average Score: 0.93, Runtime: 14.68\n",
      "Episode 19, Average Score: 0.96, Runtime: 14.94\n",
      "Episode 20, Average Score: 1.01, Runtime: 15.21\n",
      "Episode 21, Average Score: 1.09, Runtime: 15.40\n",
      "Episode 22, Average Score: 1.18, Runtime: 15.77\n",
      "Episode 23, Average Score: 1.25, Runtime: 16.01\n",
      "Episode 24, Average Score: 1.33, Runtime: 16.13\n",
      "Episode 25, Average Score: 1.42, Runtime: 16.68\n",
      "Episode 26, Average Score: 1.52, Runtime: 16.78\n",
      "Episode 27, Average Score: 1.65, Runtime: 16.78\n",
      "Episode 28, Average Score: 1.76, Runtime: 17.20\n",
      "Episode 29, Average Score: 1.88, Runtime: 17.45\n",
      "Episode 30, Average Score: 2.00, Runtime: 17.53\n",
      "Episode 31, Average Score: 2.12, Runtime: 18.22\n",
      "Episode 32, Average Score: 2.27, Runtime: 18.34\n",
      "Episode 33, Average Score: 2.48, Runtime: 18.44\n",
      "Episode 34, Average Score: 2.70, Runtime: 19.07\n",
      "Episode 35, Average Score: 2.92, Runtime: 18.91\n",
      "Episode 36, Average Score: 3.19, Runtime: 19.22\n",
      "Episode 37, Average Score: 3.43, Runtime: 19.44\n",
      "Episode 38, Average Score: 3.72, Runtime: 20.13\n",
      "Episode 39, Average Score: 4.08, Runtime: 20.16\n",
      "Episode 40, Average Score: 4.43, Runtime: 20.21\n",
      "Episode 41, Average Score: 4.82, Runtime: 20.49\n",
      "Episode 42, Average Score: 5.14, Runtime: 20.98\n",
      "Episode 43, Average Score: 5.51, Runtime: 21.00\n",
      "Episode 44, Average Score: 5.82, Runtime: 21.58\n",
      "Episode 45, Average Score: 6.19, Runtime: 21.74\n",
      "Episode 46, Average Score: 6.51, Runtime: 21.89\n",
      "Episode 47, Average Score: 6.77, Runtime: 22.08\n",
      "Episode 48, Average Score: 7.09, Runtime: 22.24\n",
      "Episode 49, Average Score: 7.42, Runtime: 22.79\n",
      "Episode 50, Average Score: 7.74, Runtime: 22.96\n",
      "Episode 51, Average Score: 8.08, Runtime: 23.15\n",
      "Episode 52, Average Score: 8.42, Runtime: 22.98\n",
      "Episode 53, Average Score: 8.75, Runtime: 22.81\n",
      "Episode 54, Average Score: 9.07, Runtime: 23.25\n",
      "Episode 55, Average Score: 9.37, Runtime: 22.98\n",
      "Episode 56, Average Score: 9.63, Runtime: 23.05\n",
      "Episode 57, Average Score: 9.93, Runtime: 23.10\n",
      "Episode 58, Average Score: 10.20, Runtime: 23.18\n",
      "Episode 59, Average Score: 10.46, Runtime: 23.41\n",
      "Episode 60, Average Score: 10.73, Runtime: 23.17\n",
      "Episode 61, Average Score: 11.06, Runtime: 23.18\n",
      "Episode 62, Average Score: 11.36, Runtime: 23.06\n",
      "Episode 63, Average Score: 11.70, Runtime: 23.18\n",
      "Episode 64, Average Score: 11.99, Runtime: 23.13\n",
      "Episode 65, Average Score: 12.26, Runtime: 23.09\n",
      "Episode 66, Average Score: 12.55, Runtime: 23.27\n",
      "Episode 67, Average Score: 12.84, Runtime: 23.15\n",
      "Episode 68, Average Score: 13.15, Runtime: 23.03\n",
      "Episode 69, Average Score: 13.44, Runtime: 23.16\n",
      "Episode 70, Average Score: 13.72, Runtime: 22.99\n",
      "Episode 71, Average Score: 14.01, Runtime: 23.14\n",
      "Episode 72, Average Score: 14.29, Runtime: 23.30\n",
      "Episode 73, Average Score: 14.54, Runtime: 23.17\n",
      "Episode 74, Average Score: 14.80, Runtime: 22.87\n",
      "Episode 75, Average Score: 15.02, Runtime: 23.17\n",
      "Episode 76, Average Score: 15.27, Runtime: 23.12\n",
      "Episode 77, Average Score: 15.50, Runtime: 23.11\n",
      "Episode 78, Average Score: 15.73, Runtime: 22.83\n",
      "Episode 79, Average Score: 15.94, Runtime: 22.93\n",
      "Episode 80, Average Score: 16.16, Runtime: 22.96\n",
      "Episode 81, Average Score: 16.41, Runtime: 22.95\n",
      "Episode 82, Average Score: 16.62, Runtime: 23.14\n",
      "Episode 83, Average Score: 16.83, Runtime: 23.15\n",
      "Episode 84, Average Score: 17.03, Runtime: 22.87\n",
      "Episode 85, Average Score: 17.22, Runtime: 22.95\n",
      "Episode 86, Average Score: 17.42, Runtime: 22.95\n",
      "Episode 87, Average Score: 17.61, Runtime: 22.87\n",
      "Episode 88, Average Score: 17.80, Runtime: 23.12\n",
      "Episode 89, Average Score: 17.98, Runtime: 23.10\n",
      "Episode 90, Average Score: 18.15, Runtime: 23.07\n",
      "Episode 91, Average Score: 18.33, Runtime: 22.80\n",
      "Episode 92, Average Score: 18.50, Runtime: 22.71\n",
      "Episode 93, Average Score: 18.68, Runtime: 23.18\n",
      "Episode 94, Average Score: 18.85, Runtime: 23.00\n",
      "Episode 95, Average Score: 19.03, Runtime: 22.88\n",
      "Episode 96, Average Score: 19.20, Runtime: 23.28\n",
      "Episode 97, Average Score: 19.36, Runtime: 23.11\n",
      "Episode 98, Average Score: 19.52, Runtime: 23.27\n",
      "Episode 99, Average Score: 19.69, Runtime: 23.28\n",
      "Episode 100, Average Score: 19.85, Runtime: 23.11\n",
      "Episode 101, Average Score: 20.22, Runtime: 23.33\n",
      "Episode 102, Average Score: 20.59, Runtime: 23.44\n",
      "Episode 103, Average Score: 20.95, Runtime: 23.43\n",
      "Episode 104, Average Score: 21.31, Runtime: 23.23\n",
      "Episode 105, Average Score: 21.67, Runtime: 23.04\n",
      "Episode 106, Average Score: 22.04, Runtime: 23.25\n",
      "Episode 107, Average Score: 22.40, Runtime: 23.06\n",
      "Episode 108, Average Score: 22.76, Runtime: 23.19\n",
      "Episode 109, Average Score: 23.11, Runtime: 23.19\n",
      "Episode 110, Average Score: 23.48, Runtime: 23.35\n",
      "Episode 111, Average Score: 23.83, Runtime: 23.23\n",
      "Episode 112, Average Score: 24.18, Runtime: 23.50\n",
      "Episode 113, Average Score: 24.54, Runtime: 23.15\n",
      "Episode 114, Average Score: 24.90, Runtime: 23.41\n",
      "Episode 115, Average Score: 25.25, Runtime: 23.43\n",
      "Episode 116, Average Score: 25.60, Runtime: 23.28\n",
      "Episode 117, Average Score: 25.96, Runtime: 23.36\n",
      "Episode 118, Average Score: 26.30, Runtime: 23.27\n",
      "Episode 119, Average Score: 26.66, Runtime: 23.33\n",
      "Episode 120, Average Score: 27.02, Runtime: 23.21\n",
      "Episode 121, Average Score: 27.36, Runtime: 23.14\n",
      "Episode 122, Average Score: 27.71, Runtime: 23.13\n",
      "Episode 123, Average Score: 28.06, Runtime: 23.15\n",
      "Episode 124, Average Score: 28.40, Runtime: 23.06\n",
      "Episode 125, Average Score: 28.73, Runtime: 22.95\n",
      "Episode 126, Average Score: 29.06, Runtime: 23.16\n",
      "Episode 127, Average Score: 29.37, Runtime: 23.17\n",
      "Episode 128, Average Score: 29.66, Runtime: 23.27\n",
      "Episode 129, Average Score: 29.97, Runtime: 23.07\n",
      "Episode 130, Average Score: 30.27, Runtime: 23.24\n",
      "\n",
      "Environment solved in 130 episodes!\tAverage Score: 30.27\n"
     ]
    },
    {
     "data": {
      "image/png": "[encoded data removed]",
      "text/plain": [
       "<matplotlib.figure.Figure at 0x7ff549c1f0f0>"
      ]
     },
     "metadata": {
      "needs_background": "light"
     },
     "output_type": "display_data"
    },
    {
     "data": {
      "text/plain": [
       "<matplotlib.figure.Figure at 0x7ff4effba470>"
      ]
     },
     "metadata": {},
     "output_type": "display_data"
    }
   ],
   "source": [
    "scores = ddpg()\n",
    "\n",
    "fig = plt.figure()\n",
    "ax = fig.add_subplot(111)\n",
    "plt.plot(np.arange(1, len(scores)+1), scores)\n",
    "plt.ylabel('Score')\n",
    "plt.xlabel('Episode #')\n",
    "plt.show()\n",
    "\n",
    "plt.savefig('ddpg_score.png')"
   ]
  },
  {
   "cell_type": "code",
   "execution_count": 109,
   "metadata": {},
   "outputs": [],
   "source": [
    "env.close()"
   ]
  }
 ],
 "metadata": {
  "kernelspec": {
   "display_name": "Python 3",
   "language": "python",
   "name": "python3"
  },
  "language_info": {
   "codemirror_mode": {
    "name": "ipython",
    "version": 3
   },
   "file_extension": ".py",
   "mimetype": "text/x-python",
   "name": "python",
   "nbconvert_exporter": "python",
   "pygments_lexer": "ipython3",
   "version": "3.6.7"
  }
 },
 "nbformat": 4,
 "nbformat_minor": 2
}
