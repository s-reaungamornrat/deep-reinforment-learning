{
 "cells": [
  {
   "cell_type": "markdown",
   "metadata": {},
   "source": [
    "# Navigation\n",
    "\n",
    "---\n",
    "\n",
    "In this notebook, you will learn how to use the Unity ML-Agents environment for the first project of the [Deep Reinforcement Learning Nanodegree](https://www.udacity.com/course/deep-reinforcement-learning-nanodegree--nd893).\n",
    "\n",
    "### 1. Start the Environment\n",
    "\n",
    "We begin by importing some necessary packages.  If the code cell below returns an error, please revisit the project instructions to double-check that you have installed [Unity ML-Agents](https://github.com/Unity-Technologies/ml-agents/blob/master/docs/Installation.md) and [NumPy](http://www.numpy.org/)."
   ]
  },
  {
   "cell_type": "code",
   "execution_count": 1,
   "metadata": {
    "collapsed": true
   },
   "outputs": [],
   "source": [
    "from unityagents import UnityEnvironment\n",
    "import numpy as np"
   ]
  },
  {
   "cell_type": "markdown",
   "metadata": {},
   "source": [
    "Next, we will start the environment!  **_Before running the code cell below_**, change the `file_name` parameter to match the location of the Unity environment that you downloaded.\n",
    "\n",
    "- **Mac**: `\"path/to/Banana.app\"`\n",
    "- **Windows** (x86): `\"path/to/Banana_Windows_x86/Banana.exe\"`\n",
    "- **Windows** (x86_64): `\"path/to/Banana_Windows_x86_64/Banana.exe\"`\n",
    "- **Linux** (x86): `\"path/to/Banana_Linux/Banana.x86\"`\n",
    "- **Linux** (x86_64): `\"path/to/Banana_Linux/Banana.x86_64\"`\n",
    "- **Linux** (x86, headless): `\"path/to/Banana_Linux_NoVis/Banana.x86\"`\n",
    "- **Linux** (x86_64, headless): `\"path/to/Banana_Linux_NoVis/Banana.x86_64\"`\n",
    "\n",
    "For instance, if you are using a Mac, then you downloaded `Banana.app`.  If this file is in the same folder as the notebook, then the line below should appear as follows:\n",
    "```\n",
    "env = UnityEnvironment(file_name=\"Banana.app\")\n",
    "```"
   ]
  },
  {
   "cell_type": "code",
   "execution_count": 58,
   "metadata": {},
   "outputs": [
    {
     "name": "stderr",
     "output_type": "stream",
     "text": [
      "INFO:unityagents:\n",
      "'Academy' started successfully!\n",
      "Unity Academy name: Academy\n",
      "        Number of Brains: 1\n",
      "        Number of External Brains : 1\n",
      "        Lesson number : 0\n",
      "        Reset Parameters :\n",
      "\t\t\n",
      "Unity brain name: BananaBrain\n",
      "        Number of Visual Observations (per agent): 0\n",
      "        Vector Observation space type: continuous\n",
      "        Vector Observation space size (per agent): 37\n",
      "        Number of stacked Vector Observation: 1\n",
      "        Vector Action space type: discrete\n",
      "        Vector Action space size (per agent): 4\n",
      "        Vector Action descriptions: , , , \n"
     ]
    }
   ],
   "source": [
    "env = UnityEnvironment(file_name=\"../prioritized_ddqn/Banana.exe\")"
   ]
  },
  {
   "cell_type": "markdown",
   "metadata": {},
   "source": [
    "Environments contain **_brains_** which are responsible for deciding the actions of their associated agents. Here we check for the first brain available, and set it as the default brain we will be controlling from Python."
   ]
  },
  {
   "cell_type": "code",
   "execution_count": 59,
   "metadata": {},
   "outputs": [
    {
     "name": "stdout",
     "output_type": "stream",
     "text": [
      "BananaBrain\n"
     ]
    }
   ],
   "source": [
    "# get the default brain\n",
    "brain_name = env.brain_names[0]\n",
    "print(brain_name)\n",
    "brain = env.brains[brain_name]"
   ]
  },
  {
   "cell_type": "markdown",
   "metadata": {},
   "source": [
    "### 2. Examine the State and Action Spaces\n",
    "\n",
    "The simulation contains a single agent that navigates a large environment.  At each time step, it has four actions at its disposal:\n",
    "- `0` - walk forward \n",
    "- `1` - walk backward\n",
    "- `2` - turn left\n",
    "- `3` - turn right\n",
    "\n",
    "The state space has `37` dimensions and contains the agent's velocity, along with ray-based perception of objects around agent's forward direction.  A reward of `+1` is provided for collecting a yellow banana, and a reward of `-1` is provided for collecting a blue banana. \n",
    "\n",
    "Run the code cell below to print some information about the environment."
   ]
  },
  {
   "cell_type": "code",
   "execution_count": 60,
   "metadata": {},
   "outputs": [
    {
     "name": "stdout",
     "output_type": "stream",
     "text": [
      "Number of agents: 1\n",
      "Number of actions: 4\n",
      "States look like: [1.         0.         0.         0.         0.84408134 0.\n",
      " 0.         1.         0.         0.0748472  0.         1.\n",
      " 0.         0.         0.25755    1.         0.         0.\n",
      " 0.         0.74177343 0.         1.         0.         0.\n",
      " 0.25854847 0.         0.         1.         0.         0.09355672\n",
      " 0.         1.         0.         0.         0.31969345 0.\n",
      " 0.        ]\n",
      "States have length: 37\n"
     ]
    }
   ],
   "source": [
    "# reset the environment\n",
    "env_info = env.reset(train_mode=True)[brain_name]\n",
    "\n",
    "# number of agents in the environment\n",
    "print('Number of agents:', len(env_info.agents))\n",
    "\n",
    "# number of actions\n",
    "action_size = brain.vector_action_space_size\n",
    "print('Number of actions:', action_size)\n",
    "\n",
    "# examine the state space \n",
    "state = env_info.vector_observations[0]\n",
    "print('States look like:', state)\n",
    "state_size = len(state)\n",
    "print('States have length:', state_size)"
   ]
  },
  {
   "cell_type": "markdown",
   "metadata": {},
   "source": [
    "### 3. Take Random Actions in the Environment\n",
    "\n",
    "In the next code cell, you will learn how to use the Python API to control the agent and receive feedback from the environment.\n",
    "\n",
    "Once this cell is executed, you will watch the agent's performance, if it selects an action (uniformly) at random with each time step.  A window should pop up that allows you to observe the agent, as it moves through the environment.  \n",
    "\n",
    "Of course, as part of the project, you'll have to change the code so that the agent is able to use its experience to gradually choose better actions when interacting with the environment!"
   ]
  },
  {
   "cell_type": "code",
   "execution_count": null,
   "metadata": {
    "collapsed": true
   },
   "outputs": [],
   "source": [
    "env_info = env.reset(train_mode=False)[brain_name] # reset the environment\n",
    "state = env_info.vector_observations[0]            # get the current state\n",
    "score = 0                                          # initialize the score\n",
    "while True:\n",
    "    action = np.random.randint(action_size)        # select an action\n",
    "    env_info = env.step(action)[brain_name]        # send the action to the environment\n",
    "    next_state = env_info.vector_observations[0]   # get the next state\n",
    "    reward = env_info.rewards[0]                   # get the reward\n",
    "    done = env_info.local_done[0]                  # see if episode has finished\n",
    "    score += reward                                # update the score\n",
    "    state = next_state                             # roll over the state to next time step\n",
    "    if done:                                       # exit loop if episode finished\n",
    "        break\n",
    "    \n",
    "print(\"Score: {}\".format(score))"
   ]
  },
  {
   "cell_type": "markdown",
   "metadata": {},
   "source": [
    "When finished, you can close the environment."
   ]
  },
  {
   "cell_type": "code",
   "execution_count": null,
   "metadata": {
    "collapsed": true
   },
   "outputs": [],
   "source": [
    "env.close()"
   ]
  },
  {
   "cell_type": "markdown",
   "metadata": {},
   "source": [
    "### 4.Double Deep Dueling Q Network Agent with Prioritized Experience Replay\n",
    "\n",
    "Now it's your turn to train your own agent to solve the environment!  When training the environment, set `train_mode=True`, so that the line for resetting the environment looks like the following:\n",
    "```python\n",
    "env_info = env.reset(train_mode=True)[brain_name]\n",
    "```"
   ]
  },
  {
   "cell_type": "code",
   "execution_count": 15,
   "metadata": {
    "collapsed": true
   },
   "outputs": [],
   "source": [
    "import os\n",
    "import sys\n",
    "import math\n",
    "import random\n",
    "from collections import namedtuple, deque\n",
    "\n",
    "import torch\n",
    "import torch.nn as nn\n",
    "import torch.nn.functional as F\n",
    "import torch.optim as optim\n",
    "\n",
    "import matplotlib.pyplot as plt"
   ]
  },
  {
   "cell_type": "code",
   "execution_count": 16,
   "metadata": {
    "collapsed": true
   },
   "outputs": [],
   "source": [
    "class SumTree(object):\n",
    "    '''\n",
    "     code apdated from https://raw.githubusercontent.com/takoika/PrioritizedExperienceReplay/master/sum_tree.py\n",
    "    '''\n",
    "    def __init__(self, max_size):\n",
    "        self.max_size = max_size\n",
    "        self.tree_level = math.ceil(math.log(max_size+1, 2))+1\n",
    "        self.tree_size = 2**self.tree_level-1\n",
    "        self.tree = [0. for i in range(self.tree_size)]\n",
    "        self.data = [None for i in range(self.max_size)]\n",
    "        self.size = 0\n",
    "        self.cursor = 0\n",
    "\n",
    "    def add(self, contents, value):\n",
    "        index = self.cursor\n",
    "        self.cursor = (self.cursor+1)%self.max_size\n",
    "        self.size = min(self.size+1, self.max_size)\n",
    "\n",
    "        self.data[index] = contents\n",
    "        self.val_update(index, value)\n",
    "\n",
    "    def get_val(self, index):\n",
    "        tree_index = 2**(self.tree_level-1)-1+index\n",
    "        return self.tree[tree_index]\n",
    "\n",
    "    def val_update(self, index, value):\n",
    "        tree_index = 2**(self.tree_level-1)-1+index\n",
    "        diff = value-self.tree[tree_index]\n",
    "        self.reconstruct(tree_index, diff)\n",
    "\n",
    "    def reconstruct(self, tindex, diff):\n",
    "        self.tree[tindex] += diff\n",
    "        if not tindex == 0:\n",
    "            tindex = int((tindex-1)/2)\n",
    "            self.reconstruct(tindex, diff)\n",
    "    \n",
    "    def find(self, value, norm=True):\n",
    "        '''\n",
    "           value: relative of the sum at the root (0-1)\n",
    "        '''\n",
    "        #print('In find value, root value, tree level ', value, self.tree[0], self.tree_level)\n",
    "        if isinstance(self.tree[0], complex): raise ValueError('root of tree in find is complex ', self.tree[0])\n",
    "        if isinstance(value, complex): raise ValueError('value in find is complex ', value)\n",
    "        if norm:\n",
    "            value *= self.tree[0]\n",
    "        return self._find(value, 0)\n",
    "\n",
    "    def _find(self, value, index):\n",
    "        '''\n",
    "            return \n",
    "              value of data\n",
    "              value stored in tree which in this case the priority\n",
    "              index to data\n",
    "        '''\n",
    "        if 2**(self.tree_level-1)-1 <= index:\n",
    "            #print(self.tree_level, 2**(self.tree_level-1)-1)\n",
    "            return self.data[index-(2**(self.tree_level-1)-1)], self.tree[index], index-(2**(self.tree_level-1)-1)\n",
    "\n",
    "        left = self.tree[2*index+1]\n",
    "        #print('In _find, left, value ', left, value)\n",
    "\n",
    "        if value <= left:\n",
    "            return self._find(value,2*index+1)\n",
    "        else:\n",
    "            return self._find(value-left,2*(index+1))\n",
    "        \n",
    "    def print_tree(self):\n",
    "        for k in range(1, self.tree_level+1):\n",
    "            for j in range(2**(k-1)-1, 2**k-1):\n",
    "                print(self.tree[j], end=' ')\n",
    "            print()\n",
    "\n",
    "    def filled_size(self):\n",
    "        return self.size"
   ]
  },
  {
   "cell_type": "code",
   "execution_count": 32,
   "metadata": {
    "collapsed": true
   },
   "outputs": [],
   "source": [
    "class ReplayMemory(object):\n",
    "    \"\"\" \n",
    "\n",
    "    see https://arxiv.org/pdf/1511.05952.pdf .\n",
    "\n",
    "    \"\"\"\n",
    "    \n",
    "    def __init__(self, memory_size, batch_size, alpha, seed, device):\n",
    "        \"\"\"\n",
    "        Parameters\n",
    "        ----------\n",
    "        memory_size (int): sample size to be stored\n",
    "        batch_size (int): batch size to be selected by `select` method\n",
    "        alpha (float): determine the degree of priorization used in sampling the buffer: \n",
    "            0 for uniform random, \n",
    "            1 for pure priority based selection\n",
    "            Prob_i \\sim priority_i**alpha/sum(priority**alpha)\n",
    "        seed (int): initialization value for random generators\n",
    "        device (string): pytorch-based computation device: cpu or cuda \n",
    "        \"\"\"\n",
    "        random.seed(seed)\n",
    "        np.random.seed(seed)\n",
    "        \n",
    "        self.tree = SumTree(memory_size)\n",
    "        self.memory_size = memory_size\n",
    "        self.batch_size = batch_size\n",
    "        self.experience = namedtuple('Experience', field_names=['state', 'action', 'reward', 'next_state', 'done'])\n",
    "        self.alpha = alpha\n",
    "        self.device = device\n",
    "\n",
    "    def add(self, state, action, reward, next_state, done, priority):\n",
    "        \"\"\"\n",
    "        Add a new experience.\n",
    "        \n",
    "        Parameters\n",
    "        ----------\n",
    "        state (37-element float list): current state of environment (at time t)\n",
    "        action (int): action applied at time t\n",
    "        reward (float): reward returned by the environment at time t+1\n",
    "        next_state (37-element float list): next state of environment (at time t+1)\n",
    "        done (bool): whether the episode ends\n",
    "        priority (float): priority of this experience (state, action, reward, next_state, done)\n",
    "        \"\"\"\n",
    "        e = self.experience(state, action, reward, next_state, float(np.uint8(done)))\n",
    "        if isinstance(priority, complex): raise ValueError('In ReplayMem::add, Priority is complex ', priority)\n",
    "        if isinstance(self.alpha, complex): raise ValueError('In ReplayMem::add, self.alpha is complex ', self.alpha)\n",
    "        if isinstance(priority**self.alpha, complex): \n",
    "            raise ValueError('In ReplayMem::add, priority {} ** self.alpha {} = {} is complex '.format(priority,\n",
    "                                                    self.alpha, priority**self.alpha))\n",
    "                                                                       \n",
    "        self.tree.add(e, float(priority**self.alpha))\n",
    "\n",
    "    def select(self, beta):\n",
    "        \"\"\" \n",
    "        Randomly sampling the experiences in the replay memory: the degree of randomness is determined by self.alpha.\n",
    "        The degree/strength of important sampling weights is determined by beta\n",
    "        \n",
    "        Parameters\n",
    "        ----------\n",
    "        beta (float) : strength of correction (annealing) for non-uniform sampling, default 0.5\n",
    "                       value should gradually increase to 1. at the end of learning (the q-value converges)\n",
    "        \n",
    "        Returns\n",
    "        -------\n",
    "        states (floating tensor): torch tensor of size [batch_size, 37]\n",
    "        actions (long tensor): torch tensor of size [batch_size, 1]\n",
    "        rewards (floating tensor): : torch tensor of size [batch_size, 1]\n",
    "        next_states (floating tensor): torch tensor of size [batch_size, 37]\n",
    "        dones (floating tensor): : torch tensor of size [batch_size, 1]\n",
    "        weights (floating tensor): : torch tensor of size [batch_size, 1] for important sampling weights\n",
    "        indices (list): indices of sample sampled from the replay memory (i.e., sample positions in a sum tree)\n",
    "        \"\"\"\n",
    "        \n",
    "        if self.tree.filled_size() < self.batch_size:\n",
    "            return None, None, None, None, None, None, None\n",
    "\n",
    "        states = [None]*self.batch_size\n",
    "        actions = [None]*self.batch_size\n",
    "        rewards = [None]*self.batch_size\n",
    "        next_states = [None]*self.batch_size\n",
    "        dones = [None]*self.batch_size\n",
    "        \n",
    "        indices = [None]*self.batch_size\n",
    "        weights = np.zeros(self.batch_size, dtype=np.float32)\n",
    "        priorities = [None]*self.batch_size\n",
    "        for bidx in range(self.batch_size):\n",
    "            r = np.random.uniform()\n",
    "            data, priority, index = self.tree.find(r)\n",
    "            priorities[bidx] = priority\n",
    "            weights[bidx] = (1./self.tree.filled_size()/priority)**beta if priority > 1e-16 else 0\n",
    "            indices[bidx] = index\n",
    "            states[bidx] = data.state\n",
    "            actions[bidx] = data.action\n",
    "            rewards[bidx] = data.reward\n",
    "            next_states[bidx] = data.next_state\n",
    "            dones[bidx] = data.done\n",
    "            self.priority_update([index], [0]) # To avoid duplicating\n",
    "            \n",
    "        \n",
    "        self.priority_update(indices, priorities) # Revert priorities\n",
    "        if not np.isclose(np.amax(weights), 0.):\n",
    "            weights /= np.amax(weights) # Normalize for stability\n",
    "        \n",
    "        # convert to torch \n",
    "        states = torch.from_numpy(np.vstack(states)).float().to(self.device)\n",
    "        actions = torch.from_numpy(np.vstack(actions)).long().to(self.device)\n",
    "        rewards = torch.from_numpy(np.vstack(rewards)).float().to(self.device)\n",
    "        next_states = torch.from_numpy(np.vstack(next_states)).float().to(self.device)\n",
    "        dones = torch.from_numpy(np.vstack(dones)).float().to(self.device)\n",
    "        weights = torch.from_numpy(np.vstack(weights)).float().to(self.device)\n",
    "        \n",
    "        return states, actions, rewards, next_states, dones, weights, indices\n",
    "\n",
    "    def priority_update(self, indices, priorities):\n",
    "        \"\"\" \n",
    "        Update priorities of samples already stored in the replay memory.\n",
    "        \n",
    "        Parameters\n",
    "        ----------\n",
    "        indices (list): indices of sample sampled from the replay memory (i.e., sample positions in a sum tree)\n",
    "        \"\"\"\n",
    "        for i, p in zip(indices, priorities): self.tree.val_update(i, float(p**self.alpha))\n",
    "    \n",
    "\n",
    "    def __len__(self):\n",
    "        \"\"\"Size of the replay memory.\"\"\"\n",
    "        return self.tree.filled_size()\n",
    "    "
   ]
  },
  {
   "cell_type": "code",
   "execution_count": 63,
   "metadata": {},
   "outputs": [],
   "source": [
    "class QNetwork(nn.Module):\n",
    "    '''\n",
    "        Deep neural network for approximation of q-values\n",
    "    '''\n",
    "    \n",
    "    def __init__(self, state_size, action_size, seed, fc1_units=128, fc2_units=64, fc1_adv_units=32, fc1_val_units=16):\n",
    "        '''\n",
    "            Parameters\n",
    "            ----------\n",
    "            state_size (int) : size of each state (37)\n",
    "            action_size (int) : dimension of action space (number of possible actions in each state)\n",
    "            fc1_units (int): output channels of the 1st fully connected layer\n",
    "            fc2_units (int): output channels of the 2nd fully connected layer\n",
    "            fc3_units (int): output channels of the 3rd fully connected layer\n",
    "        '''\n",
    "        \n",
    "        super(QNetwork, self).__init__()\n",
    "        self.seed = torch.manual_seed(seed)\n",
    "        self.fc1 = nn.Linear(state_size, fc1_units)\n",
    "        self.fc2 = nn.Linear(fc1_units, fc2_units)\n",
    "        \n",
    "        self.fc1_adv = nn.Linear(fc2_units, fc1_adv_units) \n",
    "        self.fc2_adv = nn.Linear(fc1_adv_units, action_size) \n",
    "        \n",
    "        self.fc1_val = nn.Linear(fc2_units, fc1_val_units)\n",
    "        self.fc2_val = nn.Linear(fc1_val_units, 1)\n",
    "        \n",
    "    def forward(self, x):\n",
    "        x = F.relu(self.fc1(x))\n",
    "        x = F.relu(self.fc2(x))\n",
    "        \n",
    "        adv = F.relu(self.fc1_adv(x))\n",
    "        adv = self.fc2_adv(adv)  # [batch_size, action_size]\n",
    "        \n",
    "        val = F.relu(self.fc1_val(x))\n",
    "        val = self.fc2_val(val) # [batch_size, 1]\n",
    "        \n",
    "        return val.expand(val.size()[0], adv.size()[1]) + (adv - adv.mean(dim=1).unsqueeze(1).expand(val.size(0), adv.size()[1])) \n"
   ]
  },
  {
   "cell_type": "code",
   "execution_count": 65,
   "metadata": {
    "collapsed": true
   },
   "outputs": [],
   "source": [
    "class Agent():\n",
    "\n",
    "    def __init__(self, device, state_size, action_size, seed, buffer_size=int(1e5),priority_eps=1e-3,\n",
    "                 replay_alpha= 0.7, batch_size=64, gamma=0.99, update_every=4, tau=1e-3, \n",
    "                 lr=5e-4,optim_step_size=500, optim_gamma=0.8, is_train=True):\n",
    "        \n",
    "        '''\n",
    "            Parameters\n",
    "            ----------\n",
    "            device (string): pytorch-based computation device: cpu or cuda \n",
    "            state_size (int) : size of each state (37)\n",
    "            action_size (int) : dimension of action space (number of possible actions in each state)\n",
    "            seed (int): initialization value for random generators\n",
    "            buffer_size (int): sample size to be stored\n",
    "            priority_eps (float): a minimum value of priorities (small value added to priorities) \n",
    "            replay_alpha (flaot): determine the degree of priorization used in sampling the buffer: \n",
    "                0 for uniform random, \n",
    "                1 for pure priority based selection\n",
    "                Prob_i \\sim priority_i**alpha/sum(priority**alpha)\n",
    "            batch_size (int): batch size of experiences used to train the agent\n",
    "            gamma (float): a reward discount rate\n",
    "            update_every (int): period to which a target q-network gets updated from a behavior q-network \n",
    "            tau (float): weights for weighted average of the parameter values of the target q-network and the behavior network \n",
    "            lr (float): agent learning rate\n",
    "            optim_step_size (int): number of step at which the learning rate gets updated\n",
    "            optim_gamma (float): factor to which learning rate is adjusted\n",
    "            is_train (bool): whether the agent is in training mode\n",
    "        '''\n",
    "        \n",
    "        np.random.seed(seed)\n",
    "        torch.manual_seed(seed)\n",
    "        random.seed(seed)\n",
    "        \n",
    "        self.device = device\n",
    "        self.action_size = action_size\n",
    "        self.is_train = is_train\n",
    "        \n",
    "        self.behavior_qnet = QNetwork(state_size, action_size, seed).to(self.device)\n",
    "        self.target_qnet = QNetwork(state_size, action_size, seed).to(self.device)\n",
    "        self.memory = ReplayMemory(buffer_size, batch_size, replay_alpha, seed, self.device)\n",
    "        \n",
    "        self.priority_eps = priority_eps\n",
    "        self.lr = lr\n",
    "        self.grad_abs_max = []\n",
    "        self.grad_abs_min = []\n",
    "        self.optimizer = optim.Adam(self.behavior_qnet.parameters(), self.lr)\n",
    "        self.lr_scheduler = optim.lr_scheduler.StepLR(self.optimizer, step_size=optim_step_size, gamma=optim_gamma)\n",
    "        \n",
    "        self.batch_size = batch_size\n",
    "        self.gamma = gamma # discount rate\n",
    "        self.update_every = update_every\n",
    "        self.tau = tau\n",
    "        self.t_step = 0\n",
    "        \n",
    "    def step(self, state, action, reward, next_state, done, beta):\n",
    "        \"\"\"\n",
    "        Add a new experience to the replay memory and train the agent.\n",
    "        \n",
    "        Parameters\n",
    "        ----------\n",
    "        state (37-element float list): current state of environment (at time t)\n",
    "        action (int): action applied at time t\n",
    "        reward (float): reward returned by the environment at time t+1\n",
    "        next_state (37-element float list): next state of environment (at time t+1)\n",
    "        done (bool): whether the episode ends\n",
    "        priority (float): priority of this experience (state, action, reward, next_state, done)\n",
    "        beta (float) : strength of correction (annealing) for non-uniform sampling, default 0.5\n",
    "                       value should gradually increase to 1. at the end of learning (the q-value converges)\n",
    "        \"\"\"\n",
    "        # save experience\n",
    "        if isinstance(reward, complex): raise ValueError('Reward is complex ', reward)\n",
    "        self.memory.add(state, action, reward, next_state, done, (np.abs(reward)+self.priority_eps) )\n",
    "        \n",
    "        # learn every update_every step\n",
    "        self.t_step = (self.t_step+1) % self.update_every\n",
    "        if self.t_step == 0:\n",
    "            if len(self.memory) > self.batch_size:\n",
    "                experiences = self.memory.select(beta)\n",
    "                self.learn(experiences)\n",
    "                \n",
    "    def learn(self, experiences):\n",
    "        \n",
    "        \"\"\"\n",
    "        Learn from experiences\n",
    "        \n",
    "        Parameters\n",
    "        ----------\n",
    "        experiences (tuple): containing \n",
    "            states (floating tensor): torch tensor of size [batch_size, 37]\n",
    "            actions (long tensor): torch tensor of size [batch_size, 1]\n",
    "            rewards (floating tensor): : torch tensor of size [batch_size, 1]\n",
    "            next_states (floating tensor): torch tensor of size [batch_size, 37]\n",
    "            dones (floating tensor): : torch tensor of size [batch_size, 1]\n",
    "            weights (floating tensor): : torch tensor of size [batch_size, 1] for important sampling weights\n",
    "            indices (list): indices of sample sampled from the replay memory (i.e., sample positions in a sum tree)\n",
    "        \"\"\"\n",
    "        \n",
    "        # decompose experiences\n",
    "        states, actions, rewards, next_states, dones, weights, indices = experiences\n",
    "        \n",
    "        # prepare gradient calculation\n",
    "        self.optimizer.zero_grad()\n",
    "        self.behavior_qnet.zero_grad()\n",
    "        \n",
    "        priorities = [None]*self.batch_size\n",
    "        for isx, state in enumerate(states):\n",
    "            \n",
    "            # get current estimate of q values\n",
    "            q_estimate = self.behavior_qnet(state.unsqueeze(0))[0,actions[isx]]\n",
    "            \n",
    "            # get target q values\n",
    "            with torch.no_grad():\n",
    "                max_q_index = self.behavior_qnet(next_states[isx].unsqueeze(0)).argmax().unsqueeze(0)\n",
    "                q_target_next = self.target_qnet(next_states[isx].unsqueeze(0))[0, max_q_index]\n",
    "                q_target = rewards[isx] + (self.gamma * q_target_next * (1.-dones[isx]))\n",
    "\n",
    "            # compute differences\n",
    "            loss = F.smooth_l1_loss(q_estimate, q_target.detach())\n",
    "            td_err = torch.abs(q_estimate.detach() - q_target.detach()) + self.priority_eps\n",
    "            \n",
    "             # update this transition\n",
    "            if np.isnan(td_err.numpy()) or np.isinf(td_err.numpy()): \n",
    "                raise ValueError('Priority computed fron learn is Nan or Inf ', td_err.numpy())\n",
    "                \n",
    "            priorities[isx] = td_err\n",
    "            \n",
    "            # accumulate weighted*gradient changes\n",
    "            loss.backward()\n",
    "            grad_abs_max, grad_abs_min = [],[]\n",
    "            for p in self.behavior_qnet.parameters():\n",
    "                p.grad.data *= weights[isx]\n",
    "                grad_abs_max.append(np.amax(np.abs(p.grad.detach().numpy().flatten())))           \n",
    "                grad_abs_min.append(np.amin(np.abs(p.grad.detach().numpy().flatten())))\n",
    "                \n",
    "            self.grad_abs_max.append(max(grad_abs_max))\n",
    "            self.grad_abs_min.append(min(grad_abs_min))\n",
    "\n",
    "        # update network parameters\n",
    "        self.optimizer.step()\n",
    "        \n",
    "        # update memory\n",
    "        self.memory.priority_update(indices, priorities)\n",
    "    \n",
    "        # ------------------- update target network ------------------- #\n",
    "        self.soft_update_target_net_params()\n",
    "        \n",
    "    def soft_update_target_net_params(self):\n",
    "        '''\n",
    "            θ_target = τ*θ_local + (1 - τ)*θ_target\n",
    "        '''\n",
    "        for target_param, local_param in zip(self.target_qnet.parameters(), self.behavior_qnet.parameters()):\n",
    "            target_param.data.copy_(self.tau*local_param.data + (1.-self.tau)*target_param.data)\n",
    "\n",
    "    def action_prob(self, q_values, eps):\n",
    "        \n",
    "        \"\"\"\n",
    "        Determine an epsilon greedy policy\n",
    "        \n",
    "        Parameters\n",
    "        ----------\n",
    "        q_values (floating tensor): q-values associated with each action (size [1, 4]) \n",
    "        eps (float): the degree of randomness in selecting actions\n",
    "         \n",
    "        \"\"\"        \n",
    "        \n",
    "        probs = None\n",
    "        \n",
    "        if np.isclose(eps, 0.) and self.is_train:\n",
    "            probs = np.ones(self.action_size, dtype=np.float32) / float(self.action_size)\n",
    "        else:\n",
    "            probs = np.ones(self.action_size, dtype=np.float32) * eps / float(self.action_size)\n",
    "            probs[q_values.argmax(dim=1).item()] = 1. - eps + eps / float(self.action_size)\n",
    "        return probs\n",
    "    \n",
    "    def act(self, state, eps=0.):\n",
    "        \"\"\"\n",
    "        Determine an action at state\n",
    "        \n",
    "        Parameters\n",
    "        ----------\n",
    "        state (floating tensor): a current environment state (size [1, 37]) \n",
    "        eps (float): the degree of randomness in selecting actions\n",
    "         \n",
    "        \"\"\"          \n",
    "        \n",
    "        state = torch.from_numpy(state).float().unsqueeze(0).to(device)\n",
    "        self.behavior_qnet.eval()\n",
    "        with torch.no_grad():\n",
    "            q_values = self.behavior_qnet(state)\n",
    "        if self.is_train: self.behavior_qnet.train()\n",
    "        \n",
    "        if np.isclose(eps, 0.) and not self.is_train:\n",
    "            return q_values.argmax(dim=1).item()\n",
    "        else:\n",
    "            return np.random.choice(np.arange(self.action_size), replace=False, p=self.action_prob(q_values, eps))\n",
    "        \n",
    "        "
   ]
  },
  {
   "cell_type": "markdown",
   "metadata": {},
   "source": [
    "### 5 Train DDQN Agent with Prioritized Experience Replay and Dueling Net Architecture"
   ]
  },
  {
   "cell_type": "code",
   "execution_count": 69,
   "metadata": {},
   "outputs": [],
   "source": [
    "# Train dqn\n",
    "def dqn(env, agent, train_mode=True, n_episodes=2000, max_t=1000, eps_start=1.,eps_end=0.01,eps_decay=0.995,\n",
    "        beta_reverse=0.5, beta_reverse_decay = 0.99):\n",
    "    \n",
    "    \"\"\"\n",
    "\n",
    "    Parameters\n",
    "    ----------\n",
    "    env (Unity object): environment \n",
    "    agent (Agent): DQN agent\n",
    "    train_mode (bool): whether run in a train mode\n",
    "    n_episodes (int): number of episodes\n",
    "    max_t (int): a maximum time-step in each episode\n",
    "    eps_start (float): start value for epsilon for epsilon greedy policies\n",
    "    eps_end (float): end value for epsilon for epsilon greedy policies\n",
    "    eps_decay (float): update factor of epsilon\n",
    "    beta_reverse (float): start value for beta\n",
    "    beta_reverse_decay (float): amount at which beta-reverse reduced, \n",
    "        beta = 1.-max(beta_reverse_decay*beta_reverse, 0.)\n",
    "    \"\"\"\n",
    "        \n",
    "    # environment\n",
    "    brain_name = env.brain_names[0]\n",
    "    \n",
    "\n",
    "    scores = []\n",
    "    scores_window = deque(maxlen=100)\n",
    "    eps = eps_start\n",
    "    beta = beta_reverse\n",
    "    for i_episode in range(n_episodes):\n",
    "\n",
    "        env_info = env.reset(train_mode=train_mode)[brain_name] # reset the environment\n",
    "        state = env_info.vector_observations[0] # get the current state\n",
    "        score = 0\n",
    "        for t in range(max_t):\n",
    "            action = agent.act(state, eps)\n",
    "            env_info = env.step(action)[brain_name]        # send the action to the environment\n",
    "            next_state = env_info.vector_observations[0]   # get the next state\n",
    "            reward = env_info.rewards[0]                   # get the reward\n",
    "            done = env_info.local_done[0]                  # see if episode has finished\n",
    "            agent.step(state, action, reward, next_state, done, beta)\n",
    "\n",
    "            state=next_state\n",
    "            score+=reward\n",
    "            if done: break\n",
    "                \n",
    "        # update score\n",
    "        scores_window.append(score)\n",
    "        scores.append(score)\n",
    "        # update epsilon\n",
    "        eps = max(eps_end, eps_decay*eps)\n",
    "        # update beta\n",
    "        if i_episode > n_episodes//2:\n",
    "            beta_reverse *= beta_reverse_decay\n",
    "            beta = 1.-max(beta_reverse, 0.)\n",
    "            \n",
    "        print('\\rEpisode {}\\tAverage score {:.2f} \\teps {} \\tbeta {}'.format(i_episode, np.mean(scores_window), eps, beta), end='')\n",
    "        if i_episode % 100 == 0:\n",
    "            print('\\rEpisode {}\\tAverage score {:.2f} \\teps  {} \\tbeta {}'.format(i_episode, np.mean(scores_window), eps, beta))\n",
    "        if np.mean(scores_window) >= 13.:\n",
    "            print('\\Environment solved in {:d} episodes!\\tAverage score {:.2f}'.format(i_episode-100, np.mean(scores_window)))\n",
    "            torch.save(agent.behavior_qnet.state_dict(), 'checkpoint.pth')\n",
    "            break\n",
    "    return scores"
   ]
  },
  {
   "cell_type": "code",
   "execution_count": 70,
   "metadata": {},
   "outputs": [
    {
     "name": "stdout",
     "output_type": "stream",
     "text": [
      "Episode 0\tAverage score 2.00 \teps  0.995 \tbeta 0.5\n",
      "Episode 100\tAverage score 0.15 \teps  0.6027415843082742 \tbeta 0.5\n",
      "Episode 200\tAverage score 1.42 \teps  0.36512303261753626 \tbeta 0.5\n",
      "Episode 300\tAverage score 5.21 \teps  0.2211807388415433 \tbeta 0.5\n",
      "Episode 400\tAverage score 7.07 \teps  0.13398475271138335 \tbeta 0.5\n",
      "Episode 500\tAverage score 8.07 \teps  0.0811640021330769 \tbeta 0.5\n",
      "Episode 600\tAverage score 11.86 \teps  0.04916675299948831 \tbeta 0.5\n",
      "Episode 700\tAverage score 11.66 \teps  0.029783765425331846 \tbeta 0.5\n",
      "Episode 800\tAverage score 12.51 \teps  0.02 \tbeta 0.539702 \tbeta 0.5\n",
      "Episode 900\tAverage score 11.72 \teps  0.02 \tbeta 0.5\n",
      "Episode 1000\tAverage score 12.71 \teps  0.02 \tbeta 0.5\n",
      "Episode 1003\tAverage score 13.00 \teps 0.02 \tbeta 0.5\\Environment solved in 903 episodes!\tAverage score 13.00\n"
     ]
    },
    {
     "data": {
      "image/png": "[encoded data removed]",
      "text/plain": [
       "<Figure size 432x288 with 1 Axes>"
      ]
     },
     "metadata": {},
     "output_type": "display_data"
    }
   ],
   "source": [
    "# computing device\n",
    "device = torch.device(\"cuda:0\" if torch.cuda.is_available() else \"cpu\")\n",
    "\n",
    "# environment\n",
    "brain_name = env.brain_names[0]\n",
    "env_info = env.reset(train_mode=False)[brain_name] # reset the environment\n",
    "action_size = env.brains[brain_name].vector_action_space_size\n",
    "state_size = env_info.vector_observations.size\n",
    "\n",
    "# agent\n",
    "seed = 0\n",
    "agent = Agent(device, state_size, action_size, seed, buffer_size=int(1e5),priority_eps=1e-3,\n",
    "                 replay_alpha= 0.7, batch_size=64, gamma=0.99, update_every=4, tau=1e-3, \n",
    "                 lr=5e-4,optim_step_size=500, optim_gamma=0.8)\n",
    "\n",
    "# DDQN with prioritized experience replay\n",
    "scores = dqn(env, agent, train_mode=True, n_episodes=3500, max_t=2000, eps_start=1.,eps_end=0.02,eps_decay=0.995,\n",
    "        beta_reverse=0.5, beta_reverse_decay=0.9995)\n",
    "\n",
    "# plot the scores\n",
    "fig = plt.figure()\n",
    "ax = fig.add_subplot(111)\n",
    "plt.plot(np.arange(len(scores)), scores)\n",
    "plt.ylabel('Score')\n",
    "plt.xlabel('Episode #')\n",
    "plt.show()"
   ]
  },
  {
   "cell_type": "code",
   "execution_count": 71,
   "metadata": {},
   "outputs": [],
   "source": [
    "# close environment \n",
    "env.close()"
   ]
  },
  {
   "cell_type": "code",
   "execution_count": null,
   "metadata": {
    "collapsed": true
   },
   "outputs": [],
   "source": []
  },
  {
   "cell_type": "code",
   "execution_count": null,
   "metadata": {
    "collapsed": true
   },
   "outputs": [],
   "source": []
  },
  {
   "cell_type": "code",
   "execution_count": null,
   "metadata": {
    "collapsed": true
   },
   "outputs": [],
   "source": []
  },
  {
   "cell_type": "code",
   "execution_count": null,
   "metadata": {
    "collapsed": true
   },
   "outputs": [],
   "source": []
  },
  {
   "cell_type": "code",
   "execution_count": null,
   "metadata": {
    "collapsed": true
   },
   "outputs": [],
   "source": []
  },
  {
   "cell_type": "code",
   "execution_count": null,
   "metadata": {
    "collapsed": true
   },
   "outputs": [],
   "source": []
  },
  {
   "cell_type": "code",
   "execution_count": null,
   "metadata": {
    "collapsed": true
   },
   "outputs": [],
   "source": []
  },
  {
   "cell_type": "code",
   "execution_count": null,
   "metadata": {
    "collapsed": true
   },
   "outputs": [],
   "source": []
  },
  {
   "cell_type": "code",
   "execution_count": null,
   "metadata": {
    "collapsed": true
   },
   "outputs": [],
   "source": []
  },
  {
   "cell_type": "code",
   "execution_count": null,
   "metadata": {
    "collapsed": true
   },
   "outputs": [],
   "source": []
  },
  {
   "cell_type": "code",
   "execution_count": null,
   "metadata": {
    "collapsed": true
   },
   "outputs": [],
   "source": []
  },
  {
   "cell_type": "code",
   "execution_count": null,
   "metadata": {
    "collapsed": true
   },
   "outputs": [],
   "source": []
  },
  {
   "cell_type": "code",
   "execution_count": null,
   "metadata": {
    "collapsed": true
   },
   "outputs": [],
   "source": []
  },
  {
   "cell_type": "code",
   "execution_count": null,
   "metadata": {
    "collapsed": true
   },
   "outputs": [],
   "source": []
  },
  {
   "cell_type": "code",
   "execution_count": null,
   "metadata": {
    "collapsed": true
   },
   "outputs": [],
   "source": []
  },
  {
   "cell_type": "code",
   "execution_count": null,
   "metadata": {
    "collapsed": true
   },
   "outputs": [],
   "source": []
  }
 ],
 "metadata": {
  "kernelspec": {
   "display_name": "Python [conda env:drlnd]",
   "language": "python",
   "name": "conda-env-drlnd-py"
  },
  "language_info": {
   "codemirror_mode": {
    "name": "ipython",
    "version": 3
   },
   "file_extension": ".py",
   "mimetype": "text/x-python",
   "name": "python",
   "nbconvert_exporter": "python",
   "pygments_lexer": "ipython3",
   "version": "3.6.6"
  }
 },
 "nbformat": 4,
 "nbformat_minor": 2
}
